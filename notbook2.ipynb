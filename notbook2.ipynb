{
 "cells": [
  {
   "cell_type": "code",
   "execution_count": 2,
   "id": "5fee296c",
   "metadata": {},
   "outputs": [
    {
     "name": "stdout",
     "output_type": "stream",
     "text": [
      "Preços válidos detectados:\n",
      "R$ 40.90\n",
      "R$ 46.90\n",
      "R$ 16.90\n"
     ]
    }
   ],
   "source": [
    "import csv\n",
    "# biblioteca que se conecta com a AWS\n",
    "import boto3\n",
    "import openpyxl\n",
    "from pprint import pprint\n",
    "import re\n",
    "\n",
    "# Cria um cliente da AWS lendo as credenciais do arquivo credentials.csv\n",
    "with open('C:/Users/ezequ/Desktop/UNICARIOCA/1TCC/AWS/credentials.csv', 'r') as input:\n",
    "    next(input)\n",
    "    reader = csv.reader(input)\n",
    "    for line in reader:\n",
    "        access_key_id = line[2]\n",
    "        secret_access_key = line[3]\n",
    "\n",
    "# Usa a foto\n",
    "photo = \"C:/Users/ezequ/Desktop/IBRE/AWS_REKOGNITION/preco1.jpg\"\n",
    "\n",
    "\n",
    "# Cria o cliente\n",
    "client = boto3.client('rekognition',\n",
    "                      aws_access_key_id=access_key_id,\n",
    "                      aws_secret_access_key=secret_access_key,\n",
    "                      region_name='us-east-1')\n",
    "\n",
    "# Converte uma imagem em um array de bytes\n",
    "with open(photo, 'rb') as source_image:\n",
    "    source_bytes = source_image.read()\n",
    "\n",
    "# Usa o cliente para detectar o texto na imagem\n",
    "text_response = client.detect_text(Image={'Bytes': source_bytes})\n",
    "\n",
    "# Expressão regular para identificar preços\n",
    "preco_regex = r'\\d+\\,\\d{2}'\n",
    "\n",
    "# Lista para armazenar preços válidos\n",
    "precos_validos = []\n",
    "\n",
    "# Verifica o texto detectado e armazena os preços válidos na lista\n",
    "if len(text_response[\"TextDetections\"]) > 0:\n",
    "    for text in text_response['TextDetections']:\n",
    "        if text['Type'] == 'LINE':\n",
    "            preco_match = re.search(preco_regex, text['DetectedText'])\n",
    "            if preco_match:\n",
    "                preco = float(preco_match.group(0).replace(',', '.'))\n",
    "                precos_validos.append(preco)\n",
    "\n",
    "# Exibe os preços válidos detectados\n",
    "if precos_validos:\n",
    "    print(\"Preços válidos detectados:\")\n",
    "    for preco in precos_validos:\n",
    "        print(f\"R$ {preco:.2f}\")\n",
    "else:\n",
    "    print(\"Não foram encontrados preços válidos na foto.\")\n",
    "\n"
   ]
  },
  {
   "cell_type": "code",
   "execution_count": null,
   "id": "f3e32e9d",
   "metadata": {},
   "outputs": [],
   "source": []
  }
 ],
 "metadata": {
  "kernelspec": {
   "display_name": "Python 3 (ipykernel)",
   "language": "python",
   "name": "python3"
  },
  "language_info": {
   "codemirror_mode": {
    "name": "ipython",
    "version": 3
   },
   "file_extension": ".py",
   "mimetype": "text/x-python",
   "name": "python",
   "nbconvert_exporter": "python",
   "pygments_lexer": "ipython3",
   "version": "3.9.13"
  }
 },
 "nbformat": 4,
 "nbformat_minor": 5
}
